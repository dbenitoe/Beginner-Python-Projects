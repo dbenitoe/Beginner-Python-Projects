{
 "cells": [
  {
   "cell_type": "code",
   "execution_count": 17,
   "id": "56d4cb04",
   "metadata": {},
   "outputs": [],
   "source": [
    "#Solution 1\n",
    "def anagrams(word1,word2):\n",
    "    if len(word1)!=len(word2):\n",
    "        return False\n",
    "    \n",
    "    freq1={}\n",
    "    freq2={}\n",
    "    for ch in word1:\n",
    "        if ch in freq1:\n",
    "            freq1[ch]+=1\n",
    "        else:\n",
    "            freq1[ch]=1\n",
    "    for ch in word2:\n",
    "        if ch in freq2:\n",
    "            freq2[ch]+=1\n",
    "        else:\n",
    "            freq2[ch]=1\n",
    "    for key in freq1:\n",
    "        if key not in freq2 or freq1[key]!=freq2[key]:\n",
    "            return False\n",
    "    return True"
   ]
  },
  {
   "cell_type": "code",
   "execution_count": null,
   "id": "fe1cd71a",
   "metadata": {},
   "outputs": [],
   "source": [
    "#Solution 2\n",
    "def anagrams(word1,word2):\n",
    "    if len(word1)!=len(word2):\n",
    "        return False"
   ]
  },
  {
   "cell_type": "code",
   "execution_count": 20,
   "id": "4a614ac9",
   "metadata": {},
   "outputs": [
    {
     "ename": "NameError",
     "evalue": "name 'dog' is not defined",
     "output_type": "error",
     "traceback": [
      "\u001b[1;31m---------------------------------------------------------------------------\u001b[0m",
      "\u001b[1;31mNameError\u001b[0m                                 Traceback (most recent call last)",
      "Input \u001b[1;32mIn [20]\u001b[0m, in \u001b[0;36m<cell line: 9>\u001b[1;34m()\u001b[0m\n\u001b[0;32m      5\u001b[0m         \u001b[38;5;28;01mreturn\u001b[39;00m \u001b[38;5;28;01mFalse\u001b[39;00m\n\u001b[0;32m      6\u001b[0m     \u001b[38;5;28;01mreturn\u001b[39;00m Counter(s1) \u001b[38;5;241m==\u001b[39m Counter(s2)\n\u001b[1;32m----> 9\u001b[0m testcase\u001b[38;5;241m=\u001b[39m (\u001b[43mdog\u001b[49m,god)\n",
      "\u001b[1;31mNameError\u001b[0m: name 'dog' is not defined"
     ]
    }
   ],
   "source": [
    "#Solution 3\n",
    "from collections import Counter\n",
    "def anagrams(word1,word2):\n",
    "    if len(word1)!=len(word2):\n",
    "        return False\n",
    "    return Counter(s1) == Counter(s2)\n",
    "\n"
   ]
  },
  {
   "cell_type": "code",
   "execution_count": null,
   "id": "08758094",
   "metadata": {},
   "outputs": [],
   "source": []
  }
 ],
 "metadata": {
  "kernelspec": {
   "display_name": "Python 3 (ipykernel)",
   "language": "python",
   "name": "python3"
  },
  "language_info": {
   "codemirror_mode": {
    "name": "ipython",
    "version": 3
   },
   "file_extension": ".py",
   "mimetype": "text/x-python",
   "name": "python",
   "nbconvert_exporter": "python",
   "pygments_lexer": "ipython3",
   "version": "3.9.12"
  }
 },
 "nbformat": 4,
 "nbformat_minor": 5
}
