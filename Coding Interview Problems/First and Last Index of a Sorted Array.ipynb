{
 "cells": [
  {
   "cell_type": "code",
   "execution_count": null,
   "id": "e3411382",
   "metadata": {},
   "outputs": [],
   "source": [
    "#Solution 1\n",
    "\n",
    "def first_and_last(arr,target):\n",
    "    for i in range(len(arr)):\n",
    "        if arr[i]==target:\n",
    "            start=i\n",
    "            while i+1<len(arr)and arr[i+1]==target:\n",
    "                i+=1\n",
    "            return [start,i]\n",
    "    return [-1,-1]"
   ]
  },
  {
   "cell_type": "code",
   "execution_count": null,
   "id": "d71f3c94",
   "metadata": {},
   "outputs": [],
   "source": [
    "#solution 2\n",
    "\n",
    "def first_and_last(arr,target):\n",
    "    if arr[0]==target:\n",
    "        return 0\n",
    "    left, right = 0, len(arr)-1\n",
    "    while left <= right:\n",
    "        mid = (left+right)//2\n",
    "        if arr[mid]== target and arr[mid-1]<target:\n",
    "            return mid\n",
    "        elif arr[mid]> target:\n",
    "            right = mid-1\n",
    "        elif arr[mid]< target:\n",
    "            left = mid+1\n",
    "    return -1"
   ]
  },
  {
   "cell_type": "code",
   "execution_count": null,
   "id": "9f94f675",
   "metadata": {},
   "outputs": [],
   "source": []
  }
 ],
 "metadata": {
  "kernelspec": {
   "display_name": "Python 3 (ipykernel)",
   "language": "python",
   "name": "python3"
  },
  "language_info": {
   "codemirror_mode": {
    "name": "ipython",
    "version": 3
   },
   "file_extension": ".py",
   "mimetype": "text/x-python",
   "name": "python",
   "nbconvert_exporter": "python",
   "pygments_lexer": "ipython3",
   "version": "3.9.12"
  }
 },
 "nbformat": 4,
 "nbformat_minor": 5
}
