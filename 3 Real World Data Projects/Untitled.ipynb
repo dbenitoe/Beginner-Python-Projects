{
 "cells": [
  {
   "cell_type": "markdown",
   "id": "6064066b",
   "metadata": {},
   "source": [
    "Goal: Build and deploy an early reliable fire detection system to prevent the spead of forest fires. The sytem uses AI and IOT networks."
   ]
  },
  {
   "cell_type": "code",
   "execution_count": null,
   "id": "b550b1d6",
   "metadata": {},
   "outputs": [],
   "source": []
  }
 ],
 "metadata": {
  "kernelspec": {
   "display_name": "Python 3 (ipykernel)",
   "language": "python",
   "name": "python3"
  },
  "language_info": {
   "codemirror_mode": {
    "name": "ipython",
    "version": 3
   },
   "file_extension": ".py",
   "mimetype": "text/x-python",
   "name": "python",
   "nbconvert_exporter": "python",
   "pygments_lexer": "ipython3",
   "version": "3.9.12"
  }
 },
 "nbformat": 4,
 "nbformat_minor": 5
}
